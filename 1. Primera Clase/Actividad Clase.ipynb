{
 "cells": [
  {
   "cell_type": "markdown",
   "metadata": {},
   "source": [
    "### PRIMERA CLASE"
   ]
  },
  {
   "cell_type": "code",
   "execution_count": 2,
   "metadata": {},
   "outputs": [
    {
     "name": "stdout",
     "output_type": "stream",
     "text": [
      "Hola Mundo\n"
     ]
    }
   ],
   "source": [
    "print(\"Hola Mundo\")"
   ]
  },
  {
   "cell_type": "markdown",
   "metadata": {},
   "source": [
    "### Ejercicio 1."
   ]
  },
  {
   "cell_type": "code",
   "execution_count": 4,
   "metadata": {},
   "outputs": [
    {
     "name": "stdout",
     "output_type": "stream",
     "text": [
      "NO puede tomar cerceza\n"
     ]
    }
   ],
   "source": [
    "# Ejercicio 1.\n",
    "# 1.0\n",
    "\n",
    "edad = 17\n",
    "if edad >=18: # Prueba Logica\n",
    "    print(\"Puede tomar cerveza\")\n",
    "else:\n",
    "    print(\"NO puede tomar cerceza\")"
   ]
  },
  {
   "cell_type": "code",
   "execution_count": 6,
   "metadata": {},
   "outputs": [
    {
     "name": "stdout",
     "output_type": "stream",
     "text": [
      "Porfavor ingrese la edad15\n",
      "NO puede tomar cerceza\n"
     ]
    }
   ],
   "source": [
    "# 2.0\n",
    "# El usuario pueda ingresar la edad por teclado\n",
    "\n",
    "edad = int(input(\"Porfavor ingrese la edad\"))\n",
    "if edad >=18: # Prueba Logica\n",
    "    print(\"Puede tomar cerveza\")\n",
    "else:\n",
    "    print(\"NO puede tomar cerceza\")"
   ]
  },
  {
   "cell_type": "code",
   "execution_count": 7,
   "metadata": {},
   "outputs": [],
   "source": [
    "# 3.0\n",
    "# Creación de una funcion\n",
    "\n",
    "def ejercicio1(edad):\n",
    "    if edad >=18: # Prueba Logica\n",
    "        print(\"Puede tomar cerveza\")\n",
    "    else:\n",
    "        print(\"NO puede tomar cerceza\")  "
   ]
  },
  {
   "cell_type": "code",
   "execution_count": 10,
   "metadata": {},
   "outputs": [
    {
     "name": "stdout",
     "output_type": "stream",
     "text": [
      "Porfavor ingrese la edad18\n",
      "Puede tomar cerveza\n"
     ]
    }
   ],
   "source": [
    "ejercicio1(int(input(\"Porfavor ingrese la edad\")))"
   ]
  },
  {
   "cell_type": "markdown",
   "metadata": {},
   "source": [
    "### Ejercicio 2."
   ]
  },
  {
   "cell_type": "code",
   "execution_count": 16,
   "metadata": {},
   "outputs": [
    {
     "name": "stdout",
     "output_type": "stream",
     "text": [
      "No compro nada\n"
     ]
    }
   ],
   "source": [
    "# Ejercicio 2\n",
    "# Ejercicio 2.0\n",
    "\n",
    "marca = 'poker'\n",
    "\n",
    "if marca == 'budweiser':\n",
    "    print('compro', marca) # Esta es la recomendable\n",
    "    #print('compro' + marca) \n",
    "elif marca == 'aguila':\n",
    "    print('compro', marca) \n",
    "else:\n",
    "    print('No compro nada') "
   ]
  },
  {
   "cell_type": "code",
   "execution_count": 13,
   "metadata": {},
   "outputs": [
    {
     "name": "stdout",
     "output_type": "stream",
     "text": [
      "La TRM del dia es3500\n"
     ]
    }
   ],
   "source": [
    "# Explicación de tipos de concatenado\n",
    "\n",
    "TRM = 3500\n",
    "\n",
    "print(\"La TRM del dia es\", TRM)\n",
    "print(\"La TRM del dia es\" + str(TRM))"
   ]
  },
  {
   "cell_type": "code",
   "execution_count": 22,
   "metadata": {},
   "outputs": [
    {
     "name": "stdout",
     "output_type": "stream",
     "text": [
      "compro AguilA\n"
     ]
    }
   ],
   "source": [
    "# Ejercicio 2.1\n",
    "# Estandarizacion de datos\n",
    "\n",
    "marca = 'AguilA'\n",
    "\n",
    "if marca.lower() == 'budweiser':\n",
    "    print('compro', marca) # Esta es la recomendable\n",
    "    #print('compro' + marca) \n",
    "elif marca.lower() == 'aguila':\n",
    "    print('compro', marca) \n",
    "else:\n",
    "    print('No compro nada') "
   ]
  },
  {
   "cell_type": "code",
   "execution_count": 20,
   "metadata": {},
   "outputs": [
    {
     "name": "stdout",
     "output_type": "stream",
     "text": [
      "aguila\n",
      "AGUILA\n"
     ]
    }
   ],
   "source": [
    "marca = 'AGUILA'\n",
    "print(marca.lower())\n",
    "marca2 = 'aguila'\n",
    "print(marca2.upper())"
   ]
  },
  {
   "cell_type": "code",
   "execution_count": 24,
   "metadata": {},
   "outputs": [
    {
     "name": "stdout",
     "output_type": "stream",
     "text": [
      "Ingrese la marca:BUDWEISER\n",
      "compro BUDWEISER\n"
     ]
    }
   ],
   "source": [
    "# Ejercicio 2.2\n",
    "# ingreso de la marca por teclado\n",
    "\n",
    "marca = input(\"Ingrese la marca:\")\n",
    "\n",
    "if marca.lower() == 'budweiser':\n",
    "    print('compro', marca) # Esta es la recomendable\n",
    "    #print('compro' + marca) \n",
    "elif marca.lower() == 'aguila':\n",
    "    print('compro', marca) \n",
    "else:\n",
    "    print('No compro nada') "
   ]
  },
  {
   "cell_type": "code",
   "execution_count": 25,
   "metadata": {},
   "outputs": [],
   "source": [
    "# Ejercicio 2.3\n",
    "\n",
    "def seleccionCompra():\n",
    "    marca = input(\"Ingrese la marca:\")\n",
    "\n",
    "    if marca.lower() == 'budweiser':\n",
    "        print('compro', marca) # Esta es la recomendable\n",
    "        #print('compro' + marca) \n",
    "    elif marca.lower() == 'aguila':\n",
    "        print('compro', marca) \n",
    "    else:\n",
    "        print('No compro nada')     "
   ]
  },
  {
   "cell_type": "code",
   "execution_count": 27,
   "metadata": {},
   "outputs": [
    {
     "name": "stdout",
     "output_type": "stream",
     "text": [
      "Ingrese la marca:poker\n",
      "No compro nada\n"
     ]
    }
   ],
   "source": [
    "seleccionCompra()"
   ]
  },
  {
   "cell_type": "code",
   "execution_count": null,
   "metadata": {},
   "outputs": [],
   "source": []
  }
 ],
 "metadata": {
  "kernelspec": {
   "display_name": "Python 3",
   "language": "python",
   "name": "python3"
  },
  "language_info": {
   "codemirror_mode": {
    "name": "ipython",
    "version": 3
   },
   "file_extension": ".py",
   "mimetype": "text/x-python",
   "name": "python",
   "nbconvert_exporter": "python",
   "pygments_lexer": "ipython3",
   "version": "3.7.4"
  },
  "varInspector": {
   "cols": {
    "lenName": 16,
    "lenType": 16,
    "lenVar": 40
   },
   "kernels_config": {
    "python": {
     "delete_cmd_postfix": "",
     "delete_cmd_prefix": "del ",
     "library": "var_list.py",
     "varRefreshCmd": "print(var_dic_list())"
    },
    "r": {
     "delete_cmd_postfix": ") ",
     "delete_cmd_prefix": "rm(",
     "library": "var_list.r",
     "varRefreshCmd": "cat(var_dic_list()) "
    }
   },
   "types_to_exclude": [
    "module",
    "function",
    "builtin_function_or_method",
    "instance",
    "_Feature"
   ],
   "window_display": false
  }
 },
 "nbformat": 4,
 "nbformat_minor": 2
}
